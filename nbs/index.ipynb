{
 "cells": [
  {
   "cell_type": "code",
   "execution_count": null,
   "id": "mineral-alignment",
   "metadata": {},
   "outputs": [],
   "source": [
    "#hide\n",
    "from pomerantz.networks import *"
   ]
  },
  {
   "cell_type": "markdown",
   "id": "featured-better",
   "metadata": {},
   "source": [
    "# Pomerantz\n",
    "> Simplifying the process for creating videos from photos."
   ]
  },
  {
   "cell_type": "markdown",
   "id": "meaning-hawaiian",
   "metadata": {},
   "source": [
    "This is using and building on the following sources:\n",
    "- Original Code https://github.com/vt-vl-lab/3d-photo-inpainting\\n\n",
    "- Original Huggingface Space Code from https://huggingface.co/spaces/Epoching/3D_Photo_Inpainting/tree/main"
   ]
  },
  {
   "cell_type": "markdown",
   "id": "meaning-travel",
   "metadata": {},
   "source": [
    "## Install"
   ]
  },
  {
   "cell_type": "markdown",
   "id": "automated-anger",
   "metadata": {},
   "source": [
    "`pip install pomerantz`"
   ]
  },
  {
   "cell_type": "markdown",
   "id": "adolescent-danger",
   "metadata": {},
   "source": [
    "## How to use"
   ]
  },
  {
   "cell_type": "markdown",
   "id": "guilty-spare",
   "metadata": {},
   "source": [
    "Fill me in please! Don't forget code examples:"
   ]
  },
  {
   "cell_type": "code",
   "execution_count": null,
   "id": "published-kazakhstan",
   "metadata": {},
   "outputs": [
    {
     "data": {
      "text/plain": [
       "2"
      ]
     },
     "execution_count": null,
     "metadata": {},
     "output_type": "execute_result"
    }
   ],
   "source": [
    "1+1"
   ]
  },
  {
   "cell_type": "code",
   "execution_count": null,
   "id": "changing-empire",
   "metadata": {},
   "outputs": [],
   "source": []
  }
 ],
 "metadata": {
  "kernelspec": {
   "display_name": "Python 3",
   "language": "python",
   "name": "python3"
  }
 },
 "nbformat": 4,
 "nbformat_minor": 5
}
