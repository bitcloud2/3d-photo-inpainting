{
 "cells": [
  {
   "cell_type": "code",
   "execution_count": null,
   "metadata": {},
   "outputs": [],
   "source": [
    "# default_exp boostmonodepth_utils"
   ]
  },
  {
   "cell_type": "markdown",
   "metadata": {},
   "source": [
    "# boostmonodepth_utils\n",
    "> Default description (change me)"
   ]
  },
  {
   "cell_type": "code",
   "execution_count": null,
   "metadata": {},
   "outputs": [],
   "source": [
    "#export\n",
    "import os\n",
    "import cv2\n",
    "import glob\n",
    "import numpy as np\n",
    "import imageio\n",
    "from pomerantz.MiDaS.MiDaS_utils import write_depth"
   ]
  },
  {
   "cell_type": "code",
   "execution_count": null,
   "metadata": {},
   "outputs": [],
   "source": [
    "#export\n",
    "BOOST_BASE = 'BoostingMonocularDepth'"
   ]
  },
  {
   "cell_type": "code",
   "execution_count": null,
   "metadata": {},
   "outputs": [],
   "source": [
    "#export\n",
    "BOOST_INPUTS = 'inputs'"
   ]
  },
  {
   "cell_type": "code",
   "execution_count": null,
   "metadata": {},
   "outputs": [],
   "source": [
    "#export\n",
    "BOOST_OUTPUTS = 'outputs'"
   ]
  },
  {
   "cell_type": "code",
   "execution_count": null,
   "metadata": {},
   "outputs": [],
   "source": [
    "#export\n",
    "def run_boostmonodepth(img_names, src_folder, depth_folder):\n",
    "\n",
    "    if not isinstance(img_names, list):\n",
    "        img_names = [img_names]\n",
    "\n",
    "    # remove irrelevant files first\n",
    "    clean_folder(os.path.join(BOOST_BASE, BOOST_INPUTS))\n",
    "    clean_folder(os.path.join(BOOST_BASE, BOOST_OUTPUTS))\n",
    "\n",
    "    tgt_names = []\n",
    "    for img_name in img_names:\n",
    "        base_name = os.path.basename(img_name)\n",
    "        tgt_name = os.path.join(BOOST_BASE, BOOST_INPUTS, base_name)\n",
    "        os.system(f'cp {img_name} {tgt_name}')\n",
    "\n",
    "        # keep only the file name here.\n",
    "        # they save all depth as .png file\n",
    "        tgt_names.append(os.path.basename(tgt_name).replace('.jpg', '.png'))\n",
    "\n",
    "    os.system(f'cd {BOOST_BASE} && python run.py --Final --data_dir {BOOST_INPUTS}/  --output_dir {BOOST_OUTPUTS} --depthNet 0')\n",
    "\n",
    "    for i, (img_name, tgt_name) in enumerate(zip(img_names, tgt_names)):\n",
    "        img = imageio.imread(img_name)\n",
    "        H, W = img.shape[:2]\n",
    "        scale = 640. / max(H, W)\n",
    "\n",
    "        # resize and save depth\n",
    "        target_height, target_width = int(round(H * scale)), int(round(W * scale))\n",
    "        depth = imageio.imread(os.path.join(BOOST_BASE, BOOST_OUTPUTS, tgt_name))\n",
    "        depth = np.array(depth).astype(np.float32)\n",
    "        depth = resize_depth(depth, target_width, target_height)\n",
    "        np.save(os.path.join(depth_folder, tgt_name.replace('.png', '.npy')), depth / 32768. - 1.)\n",
    "        write_depth(os.path.join(depth_folder, tgt_name.replace('.png', '')), depth)"
   ]
  },
  {
   "cell_type": "code",
   "execution_count": null,
   "metadata": {},
   "outputs": [],
   "source": [
    "#export\n",
    "def clean_folder(folder, img_exts=['.png', '.jpg', '.npy']):\n",
    "\n",
    "    for img_ext in img_exts:\n",
    "        paths_to_check = os.path.join(folder, f'*{img_ext}')\n",
    "        if len(glob.glob(paths_to_check)) == 0:\n",
    "            continue\n",
    "        print(paths_to_check)\n",
    "        os.system(f'rm {paths_to_check}')"
   ]
  },
  {
   "cell_type": "code",
   "execution_count": null,
   "metadata": {},
   "outputs": [],
   "source": [
    "#export\n",
    "def resize_depth(depth, width, height):\n",
    "    \"\"\"Resize numpy (or image read by imageio) depth map\n",
    "\n",
    "    Args:\n",
    "        depth (numpy): depth\n",
    "        width (int): image width\n",
    "        height (int): image height\n",
    "\n",
    "    Returns:\n",
    "        array: processed depth\n",
    "    \"\"\"\n",
    "    depth = cv2.blur(depth, (3, 3))\n",
    "    return cv2.resize(depth, (width, height), interpolation=cv2.INTER_AREA)"
   ]
  }
 ],
 "metadata": {
  "jupytext": {
   "split_at_heading": true
  },
  "kernelspec": {
   "display_name": "Python 3",
   "language": "python",
   "name": "python3"
  }
 },
 "nbformat": 4,
 "nbformat_minor": 4
}
